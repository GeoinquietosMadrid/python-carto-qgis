{
 "cells": [
  {
   "cell_type": "markdown",
   "metadata": {},
   "source": [
    "# Welcome to the CARTO Python SDK workshop!!\n",
    "\n",
    "This is a self-contained tutorial for educational purposes on how to use the CARTO Python SDK to work with the CARTO APIs"
   ]
  },
  {
   "cell_type": "markdown",
   "metadata": {},
   "source": [
    "## [The Jupyter Notebook](https://jupyter-notebook.readthedocs.io/en/latest/)\n",
    "\n",
    "For this workshop we will use [The Jupyter Notebook](https://jupyter-notebook.readthedocs.io/en/latest/), a web application that allows executing live Python code (among others) along with equations, graphs, explanatory text, etc.\n",
    "\n",
    "You don't need to install anything for the workshop, just play around with **your** notebook.\n",
    "\n",
    "In case you want to install additional libraries, you still can use the `pip` command from your notebook:\n",
    "\n",
    "`!pip install carto==1.0.1`\n",
    "\n",
    "_But be aware that the server is shared among all the attendees to the workshop and bad things may happen._\n",
    "\n",
    "The mechanics of a Jupyter Notebook are very intuitive:\n",
    "\n",
    "- The notebook is divided in cells\n",
    "- Just **click** over cells and run them (**Shift+Enter**) to execute their code\n",
    "- You have to run each cell sequentially but at any moment you can go to a previous cell and re-run it.\n",
    "- You only can run one cell at a time so if a cell runs forever, stop it and review the code, you may have introduced a `bug`.\n",
    "- Once a cell has been run, **double click** it to edit it and be able to re-run it.\n",
    "\n",
    "**You can use the shortcut `Shift+Enter` to run the current cell and jump to the next one.**"
   ]
  },
  {
   "cell_type": "markdown",
   "metadata": {},
   "source": [
    "### A Markdown cell\n",
    "\n",
    "We are going to use two different types of cells: `Markdown` and `Code`\n",
    "\n",
    "This is a [Markdown](https://daringfireball.net/projects/markdown/syntax) cell and it is for writing text with marks.\n",
    "\n",
    "###### This is a title\n",
    "\n",
    "This is a list:\n",
    "\n",
    "*   Red\n",
    "*   Green\n",
    "*   Blue\n",
    "\n",
    "**bolds** _italics_ [links](https://carto.com) and inline images ![images](https://cartodb-libs.global.ssl.fastly.net/cartodb.com/files/img/layout/gallery/trees/thumbnail.b793e4f7.png)"
   ]
  },
  {
   "cell_type": "code",
   "execution_count": null,
   "metadata": {
    "collapsed": true
   },
   "outputs": [],
   "source": [
    "# This a `Code` cell. Since this is a `Python` notebook you can run only `Python` code\n",
    "\n",
    "print('Hello world!')"
   ]
  },
  {
   "cell_type": "code",
   "execution_count": null,
   "metadata": {
    "collapsed": true
   },
   "outputs": [],
   "source": [
    "# <<<<< See the * while running this cell. The * means that the cell is running, be aware when you run cells infinitelly\n",
    "# This is an Infinite loop. The cell will run forever and will make other cells to stop working.\n",
    "# To finish the execution you have to stop this cell manually, by clicking on the cell and then the stop button in the top bar\n",
    "from time import sleep\n",
    "while True:\n",
    "    sleep(5)"
   ]
  },
  {
   "cell_type": "markdown",
   "metadata": {},
   "source": [
    "## [CARTO Python SDK documentation](http://carto-python.readthedocs.io/en/latest/)\n",
    "\n",
    "You can find the latest documentation about the `carto-python` library [here](http://carto-python.readthedocs.io/en/latest/), please keep this document open for further reference during the workshop.\n",
    "\n",
    "A part from the docs, the `carto-python` library is free and the source coude is available in [this Github repository](https://github.com/CartoDB/carto-python).\n",
    "\n",
    "If during the workshop you find anything that does not work as expected or you have a suggestion or new feature that is missing, don't be shy and report it [here](https://github.com/CartoDB/carto-python/issues/new), we'll be glad to improve the `carto-python` for your needs."
   ]
  },
  {
   "cell_type": "markdown",
   "metadata": {},
   "source": [
    "## Local [Installation](http://carto-python.readthedocs.io/en/latest/installation.html#)\n",
    "\n",
    "**You don't need to do this for the workshop** but when working on your own projects you should install `carto-python` on your local machine.\n",
    "\n",
    "The recommended Python environment is:\n",
    "\n",
    "- Python 2.7+ or Python 3.0+\n",
    "- [pip](https://pip.pypa.io/en/stable/installing/) as a package manager\n",
    "- (optionally) [virtualenv](https://virtualenv.pypa.io/en/stable/installation/) for isolated development environments\n",
    "\n",
    "How to install `carto-python` locally:\n",
    "\n",
    "- Create a new Python virtual environment (optional):\n",
    "\n",
    "```\n",
    "virtualenv env\n",
    "source env/bin/activate\n",
    "```\n",
    "\n",
    "- Install carto\n",
    "\n",
    "```\n",
    "pip install carto\n",
    "```\n",
    "\n",
    "And you are ready to start coding!!"
   ]
  },
  {
   "cell_type": "markdown",
   "metadata": {},
   "source": [
    "## Quickstart\n",
    "\n",
    "Let's run our first Python script with the Carto Python SDK!"
   ]
  },
  {
   "cell_type": "code",
   "execution_count": null,
   "metadata": {
    "collapsed": true
   },
   "outputs": [],
   "source": [
    "# Let's import some system packages\n",
    "import os\n",
    "import sys\n",
    "import logging\n",
    "import warnings\n",
    "from pprint import pprint as _print\n",
    "\n",
    "# We don't want warnings during the workshop (but you should take care of them in production)\n",
    "logging.captureWarnings(True)\n",
    "warnings.filterwarnings('ignore')"
   ]
  },
  {
   "cell_type": "markdown",
   "metadata": {},
   "source": [
    "### Setup your user credentials"
   ]
  },
  {
   "cell_type": "code",
   "execution_count": null,
   "metadata": {
    "collapsed": true
   },
   "outputs": [],
   "source": [
    "# FILL UP YOUR CREDENTIALS!!\n",
    "USERNAME = 'your_user_name'\n",
    "# WARNING: Don't share your API_KEY, you should always keep it private in your projects.\n",
    "API_KEY = 'your_api_key'\n",
    "\n",
    "BASE_URL = \"https://{user}.carto.com/\".format(user=USERNAME)"
   ]
  },
  {
   "cell_type": "code",
   "execution_count": null,
   "metadata": {
    "collapsed": true
   },
   "outputs": [],
   "source": [
    "# Let's import the classes we are using\n",
    "from carto.auth import APIKeyAuthClient\n",
    "from carto.exceptions import CartoException\n",
    "from carto.sql import SQLClient\n",
    "\n",
    "# Requests are authenticated, so we create a new APIKeyAuthClient with your credentials\n",
    "auth_client = APIKeyAuthClient(BASE_URL, API_KEY)\n",
    "\n",
    "# SQLClient is used to send SQL queries\n",
    "sql = SQLClient(auth_client)\n",
    "\n",
    "# let's send a simple SQL query\n",
    "try:\n",
    "    data = sql.send('select version()')\n",
    "except CartoException as e:\n",
    "    print(\"some error ocurred\", e)\n",
    "\n",
    "# now we have the data dictionary, let's see what it has\n",
    "print data"
   ]
  },
  {
   "cell_type": "code",
   "execution_count": null,
   "metadata": {
    "collapsed": true
   },
   "outputs": [],
   "source": [
    "# you can get the results from the rows key\n",
    "print data[\"rows\"]"
   ]
  },
  {
   "cell_type": "code",
   "execution_count": null,
   "metadata": {
    "collapsed": true
   },
   "outputs": [],
   "source": [
    "# this function iterates over the result from the SQL API and prints the data\n",
    "def print_result(result):\n",
    "    print(\"====================\")\n",
    "    if result is None or result[\"rows\"] is None:\n",
    "        print(\"no data to print\")\n",
    "        return\n",
    "        \n",
    "    counter = 0\n",
    "    for row in result[\"rows\"]:\n",
    "        for field in result[\"fields\"]:\n",
    "            print(field + \"(\" + result[\"fields\"][field][\"type\"] + \"): \" + str(result[\"rows\"][counter][field]))\n",
    "        counter += 1\n",
    "        print(\"--------------------\")\n",
    "    print(\"====================\")\n",
    "        \n",
    "print_result(data)"
   ]
  },
  {
   "cell_type": "markdown",
   "metadata": {},
   "source": [
    "## Exceptions\n",
    "\n",
    "All errors while using the `carto-python` library are wrapped into a `CartoException` object. Always use `try-except` clauses when calling to `carto-python` functions.\n",
    "\n",
    "Let's write a wrong SQL query, that will throw an error."
   ]
  },
  {
   "cell_type": "code",
   "execution_count": null,
   "metadata": {
    "collapsed": true
   },
   "outputs": [],
   "source": [
    "# A wrong SQL query throws a CartoException\n",
    "try:\n",
    "    data = sql.send('select version_fuckkk()')\n",
    "except CartoException as e:\n",
    "    print(\"some error ocurred\", e.message)"
   ]
  },
  {
   "cell_type": "markdown",
   "metadata": {},
   "source": [
    "## CARTO APIs\n",
    "\n",
    "The CARTO Python SDK implements the official CARTO APIs.\n",
    "\n",
    "- [Import API](https://carto.com/docs/carto-engine/import-api)\n",
    "- [SQL API](https://carto.com/docs/carto-engine/sql-api)\n",
    "- [Maps API](https://carto.com/docs/carto-engine/maps-api)\n",
    "\n",
    "Additionally, you have access to other [non-public APIs](http://carto-python.readthedocs.io/en/latest/non_public_apis.html) but be aware that those APIs may change without prior notice, so its usage is not recommended\n",
    "\n",
    "Let's walk through the different APIs."
   ]
  },
  {
   "cell_type": "markdown",
   "metadata": {},
   "source": [
    "### Import API\n",
    "\n",
    "You can import local or remote datasets into CARTO via the Import API in several ways."
   ]
  },
  {
   "cell_type": "markdown",
   "metadata": {},
   "source": [
    "#### FileImport"
   ]
  },
  {
   "cell_type": "code",
   "execution_count": null,
   "metadata": {
    "collapsed": true
   },
   "outputs": [],
   "source": [
    "# << Wait until the * stops\n",
    "from carto.file_import import FileImportJobManager\n",
    "import time\n",
    "\n",
    "# write here the URL for the dataset or the path to a local file (local to the server...)\n",
    "# take a look at the supported data formats -> https://carto.com/docs/carto-engine/import-api/importing-geospatial-data#supported-geospatial-data-formats\n",
    "LOCAL_FILE_OR_URL = \"https://academy.cartodb.com/d/tornadoes.zip\"\n",
    "\n",
    "file_import_manager = FileImportJobManager(auth_client)\n",
    "file_import = file_import_manager.create(LOCAL_FILE_OR_URL)\n",
    "\n",
    "# return the id of the import\n",
    "file_id = file_import.get_id()\n",
    "\n",
    "file_import.run()\n",
    "\n",
    "# the import API is asyncrhonous, so once sent the file, check periodically the status of the job to know when it's finished\n",
    "while(file_import.state != \"complete\" and file_import.state != \"created\"\n",
    "            and file_import.state != \"success\"):\n",
    "    time.sleep(5)\n",
    "    file_import.refresh()\n",
    "    if (file_import.state == 'failure'):\n",
    "        print('The error code is: ' + str(file_import))\n",
    "        break\n",
    "        \n",
    "print(\"`tornados` dataset successfully created!\")"
   ]
  },
  {
   "cell_type": "markdown",
   "metadata": {},
   "source": [
    "#### List current file import jobs"
   ]
  },
  {
   "cell_type": "code",
   "execution_count": null,
   "metadata": {
    "collapsed": true
   },
   "outputs": [],
   "source": [
    "from carto.file_import import FileImportJobManager\n",
    "\n",
    "file_import_manager = FileImportJobManager(auth_client)\n",
    "file_imports = file_import_manager.all()\n",
    "\n",
    "if len(file_imports) == 0:\n",
    "    print(\"You don't have any file import jobs\")\n",
    "else:\n",
    "    print(file_imports)"
   ]
  },
  {
   "cell_type": "markdown",
   "metadata": {},
   "source": [
    "#### Sync datasets"
   ]
  },
  {
   "cell_type": "code",
   "execution_count": null,
   "metadata": {
    "collapsed": true
   },
   "outputs": [],
   "source": [
    "# << Wait until the * stops\n",
    "from carto.sync_tables import SyncTableJobManager\n",
    "import time\n",
    "\n",
    "# how often to sync the dataset (in seconds)\n",
    "SYNC_TIME = 900\n",
    "# write here the URL for the dataset to sync\n",
    "URL_TO_DATASET = \"https://academy.cartodb.com/d/tornadoes.zip\"\n",
    "\n",
    "sync_table_manager = SyncTableJobManager(auth_client)\n",
    "sync_table = sync_table_manager.create(URL_TO_DATASET, SYNC_TIME)\n",
    "\n",
    "# return the id of the sync\n",
    "sync_id = sync_table.get_id()\n",
    "sync_table.run()\n",
    "\n",
    "# the import API is asyncrhonous, so once sent the file, check periodically the status of the job to know when it's finished\n",
    "while(sync_table.state != \"complete\" and sync_table.state != \"created\"\n",
    "            and sync_table.state != \"success\"):\n",
    "    time.sleep(5)\n",
    "    sync_table.refresh()\n",
    "    if (syncTable.state == 'failure'):\n",
    "        print('The error code is: ' + str(sync_table.error_code))\n",
    "        print('The error message is: ' + str(sync_table.error_message))\n",
    "        break\n",
    "\n",
    "# force sync\n",
    "sync_table.refresh()\n",
    "sync_table.force_sync()\n",
    "\n",
    "print(\"Sync dataset created. Check your CARTO datasets dashboard.\")"
   ]
  },
  {
   "cell_type": "markdown",
   "metadata": {},
   "source": [
    "### SQL API"
   ]
  },
  {
   "cell_type": "code",
   "execution_count": null,
   "metadata": {
    "collapsed": true
   },
   "outputs": [],
   "source": [
    "from carto.sql import SQLClient\n",
    "from carto.exceptions import CartoException\n",
    "\n",
    "# Requests are authenticated, so we create a new APIKeyAuthClient with your credentials\n",
    "auth_client = APIKeyAuthClient(BASE_URL, API_KEY)\n",
    "\n",
    "sql = SQLClient(auth_client)\n",
    "\n",
    "try:\n",
    "    data = sql.send('select * from tornados limit 10;')\n",
    "except CartoException as e:\n",
    "    print(\"some error ocurred\", e)\n",
    "\n",
    "print_result(data)"
   ]
  },
  {
   "cell_type": "markdown",
   "metadata": {},
   "source": [
    "#### Export as CSV"
   ]
  },
  {
   "cell_type": "code",
   "execution_count": null,
   "metadata": {
    "collapsed": true
   },
   "outputs": [],
   "source": [
    "query = \"select * from tornados limit 10\"\n",
    "# You can export data from CARTO in many different formats. Check the documentation to know more\n",
    "result = sql.send(query, format='csv')\n",
    "\n",
    "print(result)\n",
    "\n",
    "filename = \"tornados_\" + USERNAME + \".csv\"\n",
    "with open(filename, 'w') as f:\n",
    "    f.write(result)\n",
    "f.close()"
   ]
  },
  {
   "cell_type": "markdown",
   "metadata": {},
   "source": [
    "### Spatial analysis through the SQL API\n",
    "\n",
    "CARTO fully supports PostGIS analytics via its SQL API. \n",
    "\n",
    "Check [this](https://carto.com/academy/courses/sql-postgis/postgis-in-cartodb) to have a sneak peak on the CARTO analytics capabilities via the SQL API or check the official [PostGIS docs](http://postgis.net/docs/manual-2.2/) to know more about it.\n",
    "\n",
    "**Disclaimer**: You can run this queries from the SQL console within CARTO and visualize the results in real time, build dashboards, etc."
   ]
  },
  {
   "cell_type": "code",
   "execution_count": null,
   "metadata": {
    "collapsed": true
   },
   "outputs": [],
   "source": [
    "# Let's start by knowing the PostGIS version supported by CARTO\n",
    "POSTGIS_VERSION = \"SELECT PostGIS_Version() as version;\"\n",
    "\n",
    "result = sql.send(POSTGIS_VERSION)\n",
    "\n",
    "print(result[\"rows\"][0][\"version\"])"
   ]
  },
  {
   "cell_type": "code",
   "execution_count": null,
   "metadata": {
    "collapsed": true
   },
   "outputs": [],
   "source": [
    "# How many tornados around 10KM of New York?\n",
    "CITY_WKT = \"POINT(-73.973694 40.731649)\" # New York. To find coordinates of another city in the USA -> http://bboxfinder.com/\n",
    "METERS = 10000\n",
    "\n",
    "COUNT_TORNADOS_NEAR_CITY = \"select count(*) as number_of_tornados from tornados where st_dwithin(the_geom::geography, st_geometryfromtext('\" + CITY_WKT + \"', 4326)::geography, \" + str(METERS) + \")\"\n",
    "\n",
    "result = sql.send(COUNT_TORNADOS_NEAR_CITY)\n",
    "\n",
    "print_result(result)"
   ]
  },
  {
   "cell_type": "code",
   "execution_count": null,
   "metadata": {
    "collapsed": true
   },
   "outputs": [],
   "source": [
    "# Give me all the information\n",
    "GET_TORNADOS_NEAR_CITY = \"select * from tornados where st_dwithin(the_geom::geography, st_geometryfromtext('\" + CITY_WKT + \"', 4326)::geography, \" + str(METERS) + \")\"\n",
    "result = sql.send(GET_TORNADOS_NEAR_CITY)\n",
    "print_result(result)"
   ]
  },
  {
   "cell_type": "code",
   "execution_count": null,
   "metadata": {
    "collapsed": true
   },
   "outputs": [],
   "source": [
    "# Which was the most damaging tornado in the USA\n",
    "MAX_DAMAGE_TORNADO = \"select cartodb_id from tornados order by damage desc limit 1\"\n",
    "result = sql.send(MAX_DAMAGE_TORNADO)\n",
    "id_tornado = result['rows'][0][\"cartodb_id\"]\n",
    "print(id_tornado)"
   ]
  },
  {
   "cell_type": "code",
   "execution_count": null,
   "metadata": {
    "collapsed": true
   },
   "outputs": [],
   "source": [
    "# Which area affected?\n",
    "BUFFER_SIZE_METERS = 1000\n",
    "BUFFER_AROUND_MAX_DAMAGE_TORNADO = \"select st_astext(st_buffer(the_geom::geography, \" + str(BUFFER_SIZE_METERS) + \")) as damage_zone from tornados where cartodb_id = \" + str(id_tornado)\n",
    "result = sql.send(BUFFER_AROUND_MAX_DAMAGE_TORNADO)\n",
    "print(result['rows'][0][\"damage_zone\"])\n",
    "\n",
    "# COPY AND PASTE THE RESULTING POLYGON HERE -> https://arthur-e.github.io/Wicket/"
   ]
  },
  {
   "cell_type": "code",
   "execution_count": null,
   "metadata": {
    "collapsed": true
   },
   "outputs": [],
   "source": [
    "# export data as GeoJSON\n",
    "import json\n",
    "\n",
    "METERS = 100000\n",
    "GET_TORNADOS_NEAR_CITY_AS_GEOJSON = \"select * from tornados where st_dwithin(the_geom::geography, st_geometryfromtext('\" + CITY_WKT + \"', 4326)::geography, \" + str(METERS) + \")\"\n",
    "result = sql.send(GET_TORNADOS_NEAR_CITY_AS_GEOJSON, format=\"geojson\")\n",
    "result_as_json = json.dumps(result, sort_keys=True, indent=4, separators=(',', ': '))\n",
    "print(result_as_json)\n",
    "\n",
    "# COPY AND PASTE THE OUTPUT HERE -> http://geojson.io/ "
   ]
  },
  {
   "cell_type": "code",
   "execution_count": null,
   "metadata": {
    "collapsed": true
   },
   "outputs": [],
   "source": [
    "# play a bit with the SQL API\n",
    "# add here other SQL queries, try updating, inserting or deleting rows, JOINING other datasets in your account, etc.\n",
    "\n",
    "\n",
    "\n",
    "\n",
    "\n",
    "\n"
   ]
  },
  {
   "cell_type": "markdown",
   "metadata": {},
   "source": [
    "#### Batch SQL"
   ]
  },
  {
   "cell_type": "code",
   "execution_count": null,
   "metadata": {
    "collapsed": true
   },
   "outputs": [],
   "source": [
    "from carto.sql import BatchSQLClient\n",
    "\n",
    "LIST_OF_SQL_QUERIES = [__WRITE_HERE_LONG_QUERIES_LIKE_UPDATES_OR_INSERTS__]\n",
    "\n",
    "batchSQLClient = BatchSQLClient(auth_client)\n",
    "createJob = batchSQLClient.create(LIST_OF_SQL_QUERIES)\n",
    "\n",
    "print(createJob['job_id'])"
   ]
  },
  {
   "cell_type": "code",
   "execution_count": null,
   "metadata": {
    "collapsed": true
   },
   "outputs": [],
   "source": [
    "readJob = batchSQLClient.read(createJob['job_id'])"
   ]
  },
  {
   "cell_type": "code",
   "execution_count": null,
   "metadata": {
    "collapsed": true
   },
   "outputs": [],
   "source": [
    "print(readJob)"
   ]
  },
  {
   "cell_type": "markdown",
   "metadata": {},
   "source": [
    "### Maps API"
   ]
  },
  {
   "cell_type": "code",
   "execution_count": null,
   "metadata": {
    "collapsed": true
   },
   "outputs": [],
   "source": [
    "EXISTING_POINT_DATASET=\"tornados\"\n",
    "NAMED_MAP_AUTH_TOKEN = \"ugfhfdyt5re8treu\"\n",
    "NAMED_MAP_QUERY = \"select * from {dataset}\".format(dataset=EXISTING_POINT_DATASET)\n",
    "NAMED_MAP_NAME = \"python_sdk_test_map1\"\n",
    "NAMED_MAP_DEFINITION = {\n",
    "    \"version\": \"0.0.1\",\n",
    "    \"name\": NAMED_MAP_NAME,\n",
    "    \"auth\": {\n",
    "        \"method\": \"token\",\n",
    "        \"valid_tokens\": [\n",
    "            NAMED_MAP_AUTH_TOKEN\n",
    "        ]\n",
    "    },\n",
    "    \"placeholders\": {\n",
    "        \"color\": {\n",
    "            \"type\": \"css_color\",\n",
    "            \"default\": \"red\"\n",
    "        }\n",
    "    },\n",
    "    \"layergroup\": {\n",
    "        \"version\": \"1.0.1\",\n",
    "        \"layers\": [\n",
    "            {\n",
    "                \"type\": \"http\",\n",
    "                \"options\": {\n",
    "                    \"urlTemplate\": \"http://{s}.basemaps.cartocdn.com/light_all/{z}/{x}/{y}.png\"\n",
    "                }\n",
    "            },\n",
    "            {\n",
    "                \"type\": \"cartodb\",\n",
    "                \"options\": {\n",
    "                    \"cartocss_version\": \"2.1.1\",\n",
    "                    \"cartocss\": \"#layer { marker-fill: <%= color %>; }\",\n",
    "                    \"sql\": NAMED_MAP_QUERY\n",
    "                }\n",
    "            }\n",
    "        ]\n",
    "    },\n",
    "    \"view\": {\n",
    "        \"zoom\": 4,\n",
    "        \"center\": {\n",
    "            \"lng\": 0,\n",
    "            \"lat\": 0\n",
    "        },\n",
    "        \"bounds\": {\n",
    "            \"west\": -45,\n",
    "            \"south\": -45,\n",
    "            \"east\": 45,\n",
    "            \"north\": 45\n",
    "        }\n",
    "    }\n",
    "}"
   ]
  },
  {
   "cell_type": "code",
   "execution_count": null,
   "metadata": {
    "collapsed": true
   },
   "outputs": [],
   "source": [
    "from carto.maps import NamedMapManager, NamedMap\n",
    "import json\n",
    "\n",
    "named_map_manager = NamedMapManager(auth_client)\n",
    "named_map = NamedMap(named_map_manager.client)\n",
    "\n",
    "# Create named map\n",
    "named = named_map_manager.create(template=NAMED_MAP_DEFINITION)"
   ]
  },
  {
   "cell_type": "code",
   "execution_count": null,
   "metadata": {
    "collapsed": true
   },
   "outputs": [],
   "source": [
    "print(named)"
   ]
  },
  {
   "cell_type": "code",
   "execution_count": null,
   "metadata": {
    "collapsed": true
   },
   "outputs": [],
   "source": [
    "from carto.maps import NamedMapManager, NamedMap\n",
    "import json\n",
    "\n",
    "# write the path to a local file with a JSON named map template\n",
    "JSON_TEMPLATE = { \n",
    "    \"color\": \"#ff6600\" \n",
    "}\n",
    "\n",
    "# write here the ID of the named map\n",
    "NAMED_MAP_ID = \"python_sdk_test_map1\"\n",
    "\n",
    "# write here the token you set to the named map when created\n",
    "NAMED_MAP_TOKEN = \"ugfhfdyt5re8treu\"\n",
    "\n",
    "named_map_manager = NamedMapManager(auth_client)\n",
    "named_map = named_map_manager.get(NAMED_MAP_ID)\n",
    "\n",
    "named_map.instantiate(JSON_TEMPLATE, NAMED_MAP_TOKEN)"
   ]
  },
  {
   "cell_type": "code",
   "execution_count": null,
   "metadata": {
    "collapsed": true
   },
   "outputs": [],
   "source": [
    "# a tile around New York -> see http://www.maptiler.org/google-maps-coordinates-tile-bounds-projection/ to know the z,x,y values for any tile in the world\n",
    "# named_map.get_tile_url(X, Y, Z, layer_id=\"all\")\n",
    "tile_new_york = named_map.get_tile_url(75, 96, 8, layer_id=\"all\")\n",
    "print(tile_new_york)"
   ]
  },
  {
   "cell_type": "markdown",
   "metadata": {},
   "source": [
    "- tile: 8, 75, 96\n",
    "<img src=\"PASTE_HERE_THE_URL_OF_THE_PREVIOUS_STEP_AND_RUN_THIS_CELL\" />"
   ]
  },
  {
   "cell_type": "code",
   "execution_count": null,
   "metadata": {
    "collapsed": true
   },
   "outputs": [],
   "source": [
    "from carto.maps import NamedMapManager, NamedMap\n",
    "\n",
    "# write here the ID of the named map\n",
    "NAMED_MAP_ID = \"python_sdk_test_map1\"\n",
    "\n",
    "# get the named map created\n",
    "named_map = named_map_manager.get(NAMED_MAP_ID)\n",
    "\n",
    "# update named map\n",
    "named_map.view = None\n",
    "named_map.save()\n",
    "\n",
    "# delete named map\n",
    "#named_map.delete()\n",
    "\n",
    "# list all named maps\n",
    "named_maps = named_map_manager.all()\n",
    "\n",
    "# let's delete all the previously created named maps\n",
    "# for n in named_maps:\n",
    "    # n.delete()"
   ]
  },
  {
   "cell_type": "code",
   "execution_count": null,
   "metadata": {
    "collapsed": true
   },
   "outputs": [],
   "source": [
    "# PLAY AROUND WITH THE NAMED MAP TEMPLATE\n",
    "# FOR EXAMPLE TRY A DIFFERENT QUERY (one of the analysis we made in the SQL API section), CHANGE THE CARTOCSS OR ADD INTERACTION\n",
    "# NOTE: IF THE NAMED MAP IS NOT UPDATED, TRY TO DELETE THE PREVIOUS VERSION OR USE A DIFFERENT NAME\n",
    "\n"
   ]
  },
  {
   "cell_type": "markdown",
   "metadata": {},
   "source": [
    "## Examples\n",
    "\n",
    "Try by yourself some of the `carto-python` [examples](https://github.com/CartoDB/carto-python/tree/master/examples)"
   ]
  },
  {
   "cell_type": "code",
   "execution_count": null,
   "metadata": {
    "collapsed": true
   },
   "outputs": [],
   "source": []
  }
 ],
 "metadata": {
  "kernelspec": {
   "display_name": "Python 2",
   "language": "python",
   "name": "python2"
  },
  "language_info": {
   "codemirror_mode": {
    "name": "ipython",
    "version": 2
   },
   "file_extension": ".py",
   "mimetype": "text/x-python",
   "name": "python",
   "nbconvert_exporter": "python",
   "pygments_lexer": "ipython2",
   "version": "2.7.6"
  }
 },
 "nbformat": 4,
 "nbformat_minor": 2
}
